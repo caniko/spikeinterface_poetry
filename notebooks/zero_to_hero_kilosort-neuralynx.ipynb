{
 "cells": [
  {
   "cell_type": "code",
   "execution_count": 1,
   "metadata": {},
   "outputs": [],
   "source": [
    "%matplotlib inline"
   ]
  },
  {
   "cell_type": "markdown",
   "metadata": {},
   "source": [
    "# Spike Sorting shuttle drive zero to hero"
   ]
  },
  {
   "cell_type": "markdown",
   "metadata": {
    "collapsed": false
   },
   "source": []
  },
  {
   "cell_type": "code",
   "execution_count": 5,
   "metadata": {},
   "outputs": [
    {
     "ename": "ModuleNotFoundError",
     "evalue": "No module named 'spikeinterface.toolkit'",
     "output_type": "error",
     "traceback": [
      "\u001B[1;31m---------------------------------------------------------------------------\u001B[0m",
      "\u001B[1;31mModuleNotFoundError\u001B[0m                       Traceback (most recent call last)",
      "Cell \u001B[1;32mIn[5], line 7\u001B[0m\n\u001B[0;32m      5\u001B[0m \u001B[38;5;28;01mimport\u001B[39;00m \u001B[38;5;21;01mspikeinterface\u001B[39;00m \u001B[38;5;28;01mas\u001B[39;00m \u001B[38;5;21;01msi\u001B[39;00m  \u001B[38;5;66;03m# import core only\u001B[39;00m\n\u001B[0;32m      6\u001B[0m \u001B[38;5;28;01mimport\u001B[39;00m \u001B[38;5;21;01mspikeinterface\u001B[39;00m\u001B[38;5;21;01m.\u001B[39;00m\u001B[38;5;21;01mextractors\u001B[39;00m \u001B[38;5;28;01mas\u001B[39;00m \u001B[38;5;21;01mse\u001B[39;00m\n\u001B[1;32m----> 7\u001B[0m \u001B[38;5;28;01mimport\u001B[39;00m \u001B[38;5;21;01mspikeinterface\u001B[39;00m\u001B[38;5;21;01m.\u001B[39;00m\u001B[38;5;21;01mtoolkit\u001B[39;00m \u001B[38;5;28;01mas\u001B[39;00m \u001B[38;5;21;01mst\u001B[39;00m\n\u001B[0;32m      8\u001B[0m \u001B[38;5;28;01mimport\u001B[39;00m \u001B[38;5;21;01mspikeinterface\u001B[39;00m\u001B[38;5;21;01m.\u001B[39;00m\u001B[38;5;21;01msorters\u001B[39;00m \u001B[38;5;28;01mas\u001B[39;00m \u001B[38;5;21;01mss\u001B[39;00m\n\u001B[0;32m      9\u001B[0m \u001B[38;5;28;01mimport\u001B[39;00m \u001B[38;5;21;01mspikeinterface\u001B[39;00m\u001B[38;5;21;01m.\u001B[39;00m\u001B[38;5;21;01mcomparison\u001B[39;00m \u001B[38;5;28;01mas\u001B[39;00m \u001B[38;5;21;01msc\u001B[39;00m\n",
      "\u001B[1;31mModuleNotFoundError\u001B[0m: No module named 'spikeinterface.toolkit'"
     ]
    }
   ],
   "source": [
    "import os\n",
    "from pathlib import Path\n",
    "\n",
    "from spikeinterface.extractors import read_neuralynx, NeuralynxRecordingExtractor\n",
    "import spikeinterface as si  # import core only\n",
    "import spikeinterface.extractors as se\n",
    "import spikeinterface.toolkit as st\n",
    "import spikeinterface.sorters as ss\n",
    "import spikeinterface.comparison as sc\n",
    "import spikeinterface.widgets as sw\n",
    "\n",
    "import numpy as np\n",
    "import scipy as sp\n",
    "import scipy.optimize\n",
    "import matplotlib.pyplot as plt\n",
    "\n",
    "from probeinterface import Probe, ProbeGroup\n",
    "from probeinterface.plotting import plot_probe, plot_probe_group\n",
    "\n",
    "from probeinterface import generate_tetrode"
   ]
  },
  {
   "cell_type": "code",
   "execution_count": 4,
   "metadata": {},
   "outputs": [
    {
     "name": "stdout",
     "output_type": "stream",
     "text": [
      "Setting KILOSORT3_PATH environment variable for subprocess calls to: C:\\Users\\Dejana\\Documents\\GitHub\\Kilosort-2.5\n"
     ]
    }
   ],
   "source": [
    "ROOT = Path(r\"E:\\neuralynx\").resolve()"
   ]
  },
  {
   "cell_type": "markdown",
   "metadata": {},
   "source": [
    "### Define constants"
   ]
  },
  {
   "cell_type": "code",
   "execution_count": null,
   "metadata": {},
   "outputs": [],
   "source": [
    "BAD_CHANNELS = ()\n",
    "BAD_TETRODE = ()\n",
    "\n",
    "NUMBER_OF_TETRODES = 4\n",
    "\n",
    "SCALE = 1000\n",
    "RADIUS_MIN = 0.1 * SCALE\n",
    "RADIUS_MAX = 0.15 * SCALE\n",
    "HALF_CIRCLE = False\n",
    "\n",
    "MOUSE_ID = \"668\"\n",
    "RECORDING_ID = \"2023-02-01_13-04-03\"\n",
    "\n",
    "RECORDING_PATH = ROOT / MOUSE_ID / RECORDING_ID\n",
    "recording = read_neuralynx(r'E:\\neuralynx\\668\\2023-02-01_13-04-03')\n",
    "print(recording)"
   ]
  },
  {
   "cell_type": "code",
   "execution_count": null,
   "metadata": {
    "collapsed": false
   },
   "outputs": [],
   "source": [
    "recording = si.concatenate_recordings([recording])"
   ]
  },
  {
   "cell_type": "code",
   "execution_count": null,
   "metadata": {
    "collapsed": false
   },
   "outputs": [],
   "source": [
    "print(recording.channel_ids)"
   ]
  },
  {
   "cell_type": "code",
   "execution_count": null,
   "metadata": {},
   "outputs": [],
   "source": [
    "number_of_channels = NUMBER_OF_TETRODES * 4\n",
    "\n",
    "#recording_waveform_path = WAVEFORM_PATH / RECORDING_ID"
   ]
  },
  {
   "cell_type": "markdown",
   "metadata": {},
   "source": [
    "### Define n number of points along the elipse\n",
    "Source: https://stackoverflow.com/questions/6972331/how-can-i-generate-a-set-of-points-evenly-distributed-along-the-perimeter-of-an"
   ]
  },
  {
   "cell_type": "code",
   "execution_count": null,
   "metadata": {},
   "outputs": [],
   "source": [
    "def angles_in_ellipse(\n",
    "        num,\n",
    "        a,\n",
    "        b):\n",
    "    assert(num > 0)\n",
    "    assert(a < b)\n",
    "    angles = 2 * np.pi * np.arange(num) / num\n",
    "    if a != b:\n",
    "        e = (1.0 - a ** 2.0 / b ** 2.0) ** 0.5\n",
    "        tot_size = sp.special.ellipeinc(2.0 * np.pi, e)\n",
    "        arc_size = tot_size / num\n",
    "        arcs = np.arange(num) * arc_size\n",
    "        res = sp.optimize.root(\n",
    "            lambda x: (sp.special.ellipeinc(x, e) - arcs), angles)\n",
    "        angles = res.x \n",
    "    return angles\n",
    "\n",
    "\n",
    "a = RADIUS_MIN\n",
    "b = RADIUS_MAX\n",
    "n = NUMBER_OF_TETRODES * 2 if HALF_CIRCLE else NUMBER_OF_TETRODES\n",
    "\n",
    "phi = angles_in_ellipse(n, a, b)\n",
    "tetrode_positions = np.array((b * np.sin(phi), a * np.cos(phi))).T\n",
    "\n",
    "# # plotting\n",
    "# import matplotlib.pyplot as plt\n",
    "# fig = plt.figure()\n",
    "# ax = fig.gca()\n",
    "# ax.axes.set_aspect('equal')\n",
    "# ax.scatter(b * np.sin(phi), a * np.cos(phi))\n",
    "# plt.show()"
   ]
  },
  {
   "cell_type": "markdown",
   "metadata": {},
   "source": [
    "### Generate probegroup for use in spike sorting"
   ]
  },
  {
   "cell_type": "code",
   "execution_count": null,
   "metadata": {},
   "outputs": [],
   "source": [
    "probegroup = ProbeGroup()\n",
    "\n",
    "for i in range(NUMBER_OF_TETRODES):\n",
    "    tetrode = generate_tetrode()\n",
    "    tetrode.move(tetrode_positions[i])\n",
    "    probegroup.add_probe(tetrode)\n",
    "\n",
    "#t_1 = [16, 17, 18, 19]\n",
    "#t_2 = [20, 21, 22, 23]\n",
    "#t_3 = [24, 25, 26, 27]\n",
    "#t_4 = [28, 29, 30, 31]\n",
    "\n",
    "t_1 = [0,1,2,3]\n",
    "t_2 = [4,5,6,7]\n",
    "t_3 = [8,9,10,11]\n",
    "t_4 = [12,13,14,15]\n",
    "\n",
    "probegroup.set_global_device_channel_indices(np.array(t_1 + t_2 + t_3 + t_4))\n",
    "print(probegroup)"
   ]
  },
  {
   "cell_type": "code",
   "execution_count": null,
   "metadata": {
    "collapsed": false
   },
   "outputs": [],
   "source": [
    "plot_probe_group(probegroup, with_channel_index=True, same_axes=True)"
   ]
  },
  {
   "cell_type": "markdown",
   "metadata": {
    "collapsed": false
   },
   "source": [
    "## Spike sorting time!"
   ]
  },
  {
   "cell_type": "code",
   "execution_count": null,
   "metadata": {
    "collapsed": false
   },
   "outputs": [],
   "source": [
    "#recording = se.read_openephys(OE_RECORDING_PATH)\n",
    "recording.set_probegroup(probegroup, in_place=True)\n",
    "\n",
    "keep_ids = [recording.channel_ids[i] for i in range(number_of_channels) if i not in BAD_CHANNELS]\n",
    "recording = recording.channel_slice(keep_ids)"
   ]
  },
  {
   "cell_type": "markdown",
   "metadata": {
    "collapsed": false
   },
   "source": [
    "### Filter your data to only include spikes"
   ]
  },
  {
   "cell_type": "code",
   "execution_count": null,
   "metadata": {
    "collapsed": false
   },
   "outputs": [],
   "source": [
    "from spikeinterface.preprocessing import bandpass_filter\n",
    "\n",
    "recording = bandpass_filter(recording, freq_min=300, freq_max=6000)"
   ]
  },
  {
   "cell_type": "code",
   "execution_count": null,
   "metadata": {
    "collapsed": false
   },
   "outputs": [],
   "source": [
    "import spikeinterface.sorters as ss\n",
    "\n",
    "VERBOSE = False\n",
    "PATH_TO_OUTPUT_FOLDER = \"\"\n",
    "SORTER_PARAMS = {\n",
    "\n",
    "}\n",
    "\n",
    "kilosort_sorter_class = ss.Kilosort3Sorter\n",
    "kilosort_sorter_class.set_kilosort3_path(r\"C:\\Users\\Dejana\\Documents\\GitHub\\Kilosort\")\n",
    "\n",
    "output_folder = kilosort_sorter_class.initialize_folder(\n",
    "    recording, PATH_TO_OUTPUT_FOLDER, VERBOSE, remove_existing_folder=True)\n",
    "kilosort_sorter_class.set_params_to_folder(\n",
    "    recording, output_folder, SORTER_PARAMS, VERBOSE)\n",
    "kilosort_sorter_class.setup_recording(recording, output_folder, verbose=VERBOSE)\n",
    "\n",
    "# We run the sorter here!\n",
    "kilosort_sorter_class.run_from_folder(output_folder, True, VERBOSE)\n",
    "\n",
    "sorting = kilosort_sorter_class.get_result_from_folder(output_folder)\n",
    "\n",
    "sorter_output_folder = output_folder / \"sorter_output\""
   ]
  },
  {
   "cell_type": "code",
   "execution_count": null,
   "metadata": {},
   "outputs": [],
   "source": [
    "import spikeinterface as si\n",
    "from spikeinterface.exporters import export_to_phy\n",
    "\n",
    "phy_folder = Path(r'E:\\neuralynx\\Data_acquired_2022-08-16_2022-08-22\\phy_data')\n",
    "output_folder = phy_folder / RECORDING_ID\n",
    "\n",
    "we = si.extract_waveforms(recording, sorter, output_folder)"
   ]
  },
  {
   "cell_type": "code",
   "execution_count": null,
   "metadata": {
    "collapsed": false
   },
   "outputs": [],
   "source": [
    "phy_output_folder = output_folder / 'phy'\n",
    "export_to_phy(we, phy_output_folder)"
   ]
  }
 ],
 "metadata": {
  "kernelspec": {
   "display_name": "Python 3 (ipykernel)",
   "language": "python",
   "name": "python3"
  },
  "language_info": {
   "codemirror_mode": {
    "name": "ipython",
    "version": 3
   },
   "file_extension": ".py",
   "mimetype": "text/x-python",
   "name": "python",
   "nbconvert_exporter": "python",
   "pygments_lexer": "ipython3",
   "version": "3.9.13"
  }
 },
 "nbformat": 4,
 "nbformat_minor": 1
}
